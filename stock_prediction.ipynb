{
  "nbformat": 4,
  "nbformat_minor": 0,
  "metadata": {
    "colab": {
      "name": "stock_prediction.ipynb",
      "provenance": [],
      "collapsed_sections": [],
      "authorship_tag": "ABX9TyNAzP3/+XSYjr/f82s7fVl6",
      "include_colab_link": true
    },
    "kernelspec": {
      "name": "python3",
      "display_name": "Python 3"
    }
  },
  "cells": [
    {
      "cell_type": "markdown",
      "metadata": {
        "id": "view-in-github",
        "colab_type": "text"
      },
      "source": [
        "<a href=\"https://colab.research.google.com/github/diamantron/seq2sql/blob/master/stock_prediction.ipynb\" target=\"_parent\"><img src=\"https://colab.research.google.com/assets/colab-badge.svg\" alt=\"Open In Colab\"/></a>"
      ]
    },
    {
      "cell_type": "code",
      "metadata": {
        "id": "fpSpQvhApXmS"
      },
      "source": [
        "# Description: Predict stock price using a neural network\n",
        "# ======================================================="
      ],
      "execution_count": 12,
      "outputs": []
    },
    {
      "cell_type": "code",
      "metadata": {
        "id": "9K6JuyUapmUi"
      },
      "source": [
        "# Import libraries\n",
        "import math\n",
        "import pandas_datareader as web\n",
        "import numpy as np\n",
        "import pandas as pd\n",
        "from sklearn.preprocessing import MinMaxScaler\n",
        "from keras.models import Sequential\n",
        "from keras.layers import Dense, LSTM\n",
        "import matplotlib.pyplot as plt\n",
        "plt.style.use('fivethirtyeight')"
      ],
      "execution_count": 13,
      "outputs": []
    },
    {
      "cell_type": "code",
      "metadata": {
        "colab": {
          "base_uri": "https://localhost:8080/",
          "height": 450
        },
        "id": "vHuSv2Avspu8",
        "outputId": "ac47897d-3f25-424b-bde7-c5d81e44b795"
      },
      "source": [
        "# Get the stock quote\n",
        "df = web.DataReader('AMZN', data_source='yahoo', start='2000-01-01', end='2020-12-01')\n",
        "\n",
        "# Show the data\n",
        "df"
      ],
      "execution_count": 16,
      "outputs": [
        {
          "output_type": "execute_result",
          "data": {
            "text/html": [
              "<div>\n",
              "<style scoped>\n",
              "    .dataframe tbody tr th:only-of-type {\n",
              "        vertical-align: middle;\n",
              "    }\n",
              "\n",
              "    .dataframe tbody tr th {\n",
              "        vertical-align: top;\n",
              "    }\n",
              "\n",
              "    .dataframe thead th {\n",
              "        text-align: right;\n",
              "    }\n",
              "</style>\n",
              "<table border=\"1\" class=\"dataframe\">\n",
              "  <thead>\n",
              "    <tr style=\"text-align: right;\">\n",
              "      <th></th>\n",
              "      <th>High</th>\n",
              "      <th>Low</th>\n",
              "      <th>Open</th>\n",
              "      <th>Close</th>\n",
              "      <th>Volume</th>\n",
              "      <th>Adj Close</th>\n",
              "    </tr>\n",
              "    <tr>\n",
              "      <th>Date</th>\n",
              "      <th></th>\n",
              "      <th></th>\n",
              "      <th></th>\n",
              "      <th></th>\n",
              "      <th></th>\n",
              "      <th></th>\n",
              "    </tr>\n",
              "  </thead>\n",
              "  <tbody>\n",
              "    <tr>\n",
              "      <th>2000-01-03</th>\n",
              "      <td>89.562500</td>\n",
              "      <td>79.046875</td>\n",
              "      <td>81.500000</td>\n",
              "      <td>89.375000</td>\n",
              "      <td>16117600</td>\n",
              "      <td>89.375000</td>\n",
              "    </tr>\n",
              "    <tr>\n",
              "      <th>2000-01-04</th>\n",
              "      <td>91.500000</td>\n",
              "      <td>81.750000</td>\n",
              "      <td>85.375000</td>\n",
              "      <td>81.937500</td>\n",
              "      <td>17487400</td>\n",
              "      <td>81.937500</td>\n",
              "    </tr>\n",
              "    <tr>\n",
              "      <th>2000-01-05</th>\n",
              "      <td>75.125000</td>\n",
              "      <td>68.000000</td>\n",
              "      <td>70.500000</td>\n",
              "      <td>69.750000</td>\n",
              "      <td>38457400</td>\n",
              "      <td>69.750000</td>\n",
              "    </tr>\n",
              "    <tr>\n",
              "      <th>2000-01-06</th>\n",
              "      <td>72.687500</td>\n",
              "      <td>64.000000</td>\n",
              "      <td>71.312500</td>\n",
              "      <td>65.562500</td>\n",
              "      <td>18752000</td>\n",
              "      <td>65.562500</td>\n",
              "    </tr>\n",
              "    <tr>\n",
              "      <th>2000-01-07</th>\n",
              "      <td>70.500000</td>\n",
              "      <td>66.187500</td>\n",
              "      <td>67.000000</td>\n",
              "      <td>69.562500</td>\n",
              "      <td>10505400</td>\n",
              "      <td>69.562500</td>\n",
              "    </tr>\n",
              "    <tr>\n",
              "      <th>...</th>\n",
              "      <td>...</td>\n",
              "      <td>...</td>\n",
              "      <td>...</td>\n",
              "      <td>...</td>\n",
              "      <td>...</td>\n",
              "      <td>...</td>\n",
              "    </tr>\n",
              "    <tr>\n",
              "      <th>2020-11-24</th>\n",
              "      <td>3134.250000</td>\n",
              "      <td>3086.260010</td>\n",
              "      <td>3100.500000</td>\n",
              "      <td>3118.060059</td>\n",
              "      <td>3602100</td>\n",
              "      <td>3118.060059</td>\n",
              "    </tr>\n",
              "    <tr>\n",
              "      <th>2020-11-25</th>\n",
              "      <td>3198.000000</td>\n",
              "      <td>3140.260010</td>\n",
              "      <td>3141.870117</td>\n",
              "      <td>3185.070068</td>\n",
              "      <td>3790400</td>\n",
              "      <td>3185.070068</td>\n",
              "    </tr>\n",
              "    <tr>\n",
              "      <th>2020-11-27</th>\n",
              "      <td>3216.189941</td>\n",
              "      <td>3190.050049</td>\n",
              "      <td>3211.260010</td>\n",
              "      <td>3195.340088</td>\n",
              "      <td>2392900</td>\n",
              "      <td>3195.340088</td>\n",
              "    </tr>\n",
              "    <tr>\n",
              "      <th>2020-11-30</th>\n",
              "      <td>3228.389893</td>\n",
              "      <td>3125.550049</td>\n",
              "      <td>3208.479980</td>\n",
              "      <td>3168.040039</td>\n",
              "      <td>4063900</td>\n",
              "      <td>3168.040039</td>\n",
              "    </tr>\n",
              "    <tr>\n",
              "      <th>2020-12-01</th>\n",
              "      <td>3248.949951</td>\n",
              "      <td>3157.179932</td>\n",
              "      <td>3188.500000</td>\n",
              "      <td>3220.080078</td>\n",
              "      <td>4544400</td>\n",
              "      <td>3220.080078</td>\n",
              "    </tr>\n",
              "  </tbody>\n",
              "</table>\n",
              "<p>5263 rows × 6 columns</p>\n",
              "</div>"
            ],
            "text/plain": [
              "                   High          Low  ...    Volume    Adj Close\n",
              "Date                                  ...                       \n",
              "2000-01-03    89.562500    79.046875  ...  16117600    89.375000\n",
              "2000-01-04    91.500000    81.750000  ...  17487400    81.937500\n",
              "2000-01-05    75.125000    68.000000  ...  38457400    69.750000\n",
              "2000-01-06    72.687500    64.000000  ...  18752000    65.562500\n",
              "2000-01-07    70.500000    66.187500  ...  10505400    69.562500\n",
              "...                 ...          ...  ...       ...          ...\n",
              "2020-11-24  3134.250000  3086.260010  ...   3602100  3118.060059\n",
              "2020-11-25  3198.000000  3140.260010  ...   3790400  3185.070068\n",
              "2020-11-27  3216.189941  3190.050049  ...   2392900  3195.340088\n",
              "2020-11-30  3228.389893  3125.550049  ...   4063900  3168.040039\n",
              "2020-12-01  3248.949951  3157.179932  ...   4544400  3220.080078\n",
              "\n",
              "[5263 rows x 6 columns]"
            ]
          },
          "metadata": {
            "tags": []
          },
          "execution_count": 16
        }
      ]
    },
    {
      "cell_type": "code",
      "metadata": {
        "id": "khgyiz7OtIyL"
      },
      "source": [
        ""
      ],
      "execution_count": null,
      "outputs": []
    }
  ]
}